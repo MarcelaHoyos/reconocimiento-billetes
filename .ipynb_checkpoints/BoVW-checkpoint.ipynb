{
 "cells": [
  {
   "cell_type": "code",
   "execution_count": 61,
   "metadata": {},
   "outputs": [],
   "source": [
    "import numpy as np\n",
    "import cv2\n",
    "from sklearn import svm\n",
    "from sklearn.metrics import accuracy_score\n",
    "from sklearn.model_selection import train_test_split\n",
    "from sklearn.cluster import MiniBatchKMeans\n",
    "\n",
    "import matplotlib.pyplot as plt"
   ]
  },
  {
   "cell_type": "code",
   "execution_count": 86,
   "metadata": {},
   "outputs": [],
   "source": [
    "def clusters(imagenes,nclusters):\n",
    "    \"\"\"\n",
    "    clusteriza los histogramas de los descriptores extraidos de las imagenes. \n",
    "    parametros:\n",
    "    imagenes es una lista con las rutas a las imagenes que se usaran\n",
    "    nclusters es el numero de clusters que usara kmeans para clusterizar los dato \n",
    "    \"\"\"\n",
    "    sift_keypoints = []\n",
    "    for archivo in imagenes:\n",
    "        #print(archivo)\n",
    "        keypoints = []\n",
    "        image = cv2.imread(archivo,1)\n",
    "        image =cv2.cvtColor(image,cv2.COLOR_BGR2GRAY)\n",
    "        orb = cv2.ORB_create()\n",
    "        keypoints = orb.detect(image,None)\n",
    "        keypoints, descriptors = orb.compute(image, keypoints)\n",
    "        sift_keypoints.append(descriptors)\n",
    "    #nclusters = int(np.sqrt(len(sift_keypoints)/len(imagenes)))\n",
    "    sift_keypoints=np.asarray(sift_keypoints)\n",
    "    sift_keypoints=np.concatenate(sift_keypoints, axis=0)  \n",
    "    kmeans = MiniBatchKMeans(n_clusters=nclusters, random_state=0).fit(sift_keypoints)\n",
    "\n",
    "    return kmeans"
   ]
  },
  {
   "cell_type": "code",
   "execution_count": 87,
   "metadata": {},
   "outputs": [],
   "source": [
    "def histogramas(imagenes, modelo,nclusters):\n",
    "    \"\"\"\n",
    "    predice a que categorias pertenecen los descriptores de una imagen con el modelo(kmeans para este caso) \n",
    "    y crea un histograma de los mismos para usar como features en el SVC\n",
    "    imagenes es una lista con las rutas a las imagenes que se usaran\n",
    "    modelo es el modelo kmenas con el cluster para decidir como estan distribuidos los descriptores\n",
    "    nclusters es el numero de clusters que usara kmeans para clusterizar los datos \n",
    "    \"\"\"\n",
    "    \n",
    "    feature_vectors = []\n",
    "    keypoints = []\n",
    "    for archivo in imagenes:\n",
    "        #print(archivo)\n",
    "        image = cv2.imread(archivo,1)\n",
    "        image =cv2.cvtColor(image,cv2.COLOR_BGR2GRAY)\n",
    "        \n",
    "        orb = cv2.ORB_create()\n",
    "        keypoints = orb.detect(image,None)\n",
    "        keypoints, descriptors = orb.compute(image, keypoints)\n",
    "        \n",
    "        predict_kmeans=modelo.predict(descriptors)\n",
    "        #nclusters = int(np.sqrt(len(descriptors)))\n",
    "        hist, bin_edges=np.histogram(predict_kmeans,bins=nclusters)\n",
    "        feature_vectors.append(hist)\n",
    "    feature_vectors=np.asarray(feature_vectors)\n",
    "\n",
    "    return feature_vectors"
   ]
  },
  {
   "cell_type": "code",
   "execution_count": 88,
   "metadata": {},
   "outputs": [],
   "source": [
    "#cargamos rutas de las imagenes (aviones y motos)\n",
    "im_aviones = np.loadtxt('aviones.txt',dtype='str')\n",
    "im_motos = np.loadtxt('motos.txt',dtype='str')\n",
    "#generamos labels (0 para avion y 1 para moto)\n",
    "labels = len(im_aviones)*[0]+len(im_motos)*[1]\n",
    "imagenes = np.concatenate((im_aviones,im_motos))\n",
    "#separamos los datos en train y test\n",
    "X_train,X_test,y_train,y_test = train_test_split(imagenes, labels, test_size=0.25)\n"
   ]
  },
  {
   "cell_type": "code",
   "execution_count": 89,
   "metadata": {},
   "outputs": [
    {
     "name": "stderr",
     "output_type": "stream",
     "text": [
      "/usr/lib/python2.7/site-packages/sklearn/cluster/k_means_.py:1559: RuntimeWarning: init_size=300 should be larger than k=1000. Setting it to 3*k\n",
      "  init_size=init_size)\n"
     ]
    }
   ],
   "source": [
    "#entrenamos un suport vector clasifier (que debe luego ajustarse para mejor precision)\n",
    "#con los histogramas extraidos del kmeans de los descriptores\n",
    "nclusters = 1000 \n",
    "kmeans = clusters(X_train,nclusters)\n",
    "histograma_train = histogramas(X_train,kmeans,nclusters)\n",
    "clf = svm.SVC()\n",
    "#clf.fit(histograma_train, np.asarray(y_train))\n"
   ]
  },
  {
   "cell_type": "code",
   "execution_count": 90,
   "metadata": {},
   "outputs": [
    {
     "name": "stderr",
     "output_type": "stream",
     "text": [
      "/usr/lib/python2.7/site-packages/sklearn/svm/base.py:196: FutureWarning: The default value of gamma will change from 'auto' to 'scale' in version 0.22 to account better for unscaled features. Set gamma explicitly to 'auto' or 'scale' to avoid this warning.\n",
      "  \"avoid this warning.\", FutureWarning)\n"
     ]
    },
    {
     "data": {
      "text/plain": [
       "SVC(C=1.0, cache_size=200, class_weight=None, coef0=0.0,\n",
       "  decision_function_shape='ovr', degree=3, gamma='auto_deprecated',\n",
       "  kernel='rbf', max_iter=-1, probability=False, random_state=None,\n",
       "  shrinking=True, tol=0.001, verbose=False)"
      ]
     },
     "execution_count": 90,
     "metadata": {},
     "output_type": "execute_result"
    }
   ],
   "source": [
    "clf.fit(histograma_train, y_train)"
   ]
  },
  {
   "cell_type": "code",
   "execution_count": 93,
   "metadata": {},
   "outputs": [
    {
     "name": "stdout",
     "output_type": "stream",
     "text": [
      "precision train = 0.9816360601001669\n",
      "precision test = 0.86\n"
     ]
    }
   ],
   "source": [
    "#test de precision sobre los conjuntos train y test para inferir overfiting, underfiting ....\n",
    "histograma_test = histogramas(X_test,kmeans,nclusters)\n",
    "histograma_train = histogramas(X_train,kmeans,nclusters)\n",
    "predict_test=clf.predict(histograma_test)\n",
    "predict_train=clf.predict(histograma_train)\n",
    "score_train =  accuracy_score(y_train, predict_train)\n",
    "score_test = accuracy_score(y_test, predict_test)\n",
    "print('precision train = ' +str(score_train))\n",
    "print('precision test = ' +str(score_test))"
   ]
  },
  {
   "cell_type": "code",
   "execution_count": null,
   "metadata": {},
   "outputs": [],
   "source": []
  }
 ],
 "metadata": {
  "kernelspec": {
   "display_name": "Python 3",
   "language": "python",
   "name": "python3"
  },
  "language_info": {
   "codemirror_mode": {
    "name": "ipython",
    "version": 3
   },
   "file_extension": ".py",
   "mimetype": "text/x-python",
   "name": "python",
   "nbconvert_exporter": "python",
   "pygments_lexer": "ipython3",
   "version": "3.6.1"
  }
 },
 "nbformat": 4,
 "nbformat_minor": 2
}
